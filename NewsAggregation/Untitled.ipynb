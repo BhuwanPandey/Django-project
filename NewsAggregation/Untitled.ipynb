{
 "cells": [
  {
   "cell_type": "code",
   "execution_count": 1,
   "metadata": {},
   "outputs": [],
   "source": [
    "import requests\n",
    "from django.shortcuts import render, redirect\n",
    "from bs4 import BeautifulSoup as BSoup\n"
   ]
  },
  {
   "cell_type": "code",
   "execution_count": 3,
   "metadata": {},
   "outputs": [],
   "source": [
    "url = \"https://www.theonion.com/\"\n",
    "r=requests.get(url)\n",
    "# print(r.content)"
   ]
  },
  {
   "cell_type": "code",
   "execution_count": 5,
   "metadata": {},
   "outputs": [],
   "source": [
    "soup = BSoup(r.content, 'html.parser')\n",
    "# print(soup.prettify())"
   ]
  },
  {
   "cell_type": "code",
   "execution_count": 8,
   "metadata": {},
   "outputs": [],
   "source": [
    "val=soup.find_all('article',{'class':\"js_post_item\"})"
   ]
  },
  {
   "cell_type": "code",
   "execution_count": 75,
   "metadata": {},
   "outputs": [],
   "source": [
    "links=[]\n",
    "urls=[]\n",
    "title=[]\n",
    "for link in val:\n",
    "    main=link.find('a')\n",
    "    \n",
    "    try:\n",
    "        url=(str(main.find('img')['data-srcset']).split(\" \")[0])\n",
    "        link.append(url)\n",
    "        urls.append(main['href'])\n",
    "        title.append(link.find('h4').get_text())\n",
    "    except:\n",
    "        pass\n"
   ]
  },
  {
   "cell_type": "code",
   "execution_count": null,
   "metadata": {},
   "outputs": [],
   "source": [
    "print(len(link))\n",
    "print(len(link))\n",
    "print(len(link))\n"
   ]
  },
  {
   "cell_type": "code",
   "execution_count": 54,
   "metadata": {},
   "outputs": [],
   "source": [
    "print(len(link))\n",
    "h=[]\n",
    "for link in val:\n",
    "    main=link.find('a')\n",
    "    try:\n",
    "        h.append(link.find('h4'))\n",
    "    except:\n",
    "        pass\n",
    "  \n",
    "  "
   ]
  },
  {
   "cell_type": "code",
   "execution_count": 62,
   "metadata": {},
   "outputs": [
    {
     "name": "stdout",
     "output_type": "stream",
     "text": [
      "The Topical: National Weather Service Warns Recent Snow-Cainado May Be Tied To Professor Barnabas T. Vile’s Weather Destabilizing Machine\n",
      "Potential Outcomes For Ginsburg’s Vacant Supreme Court Seat\n",
      "Mitt Romney Backs Filling Supreme Court Vacancy Before Election\n",
      "The Onion Looks Back At The Life And Legacy Of Ruth Bader Ginsburg\n",
      "Hiker Wandering Through Oregon Forest Enjoying Vibrant Reds And Golds Of Fall\n",
      "New Patriotic 1776 Commission Struggling To Find Ways To Improve Upon Education System’s Existing Propaganda\n",
      "NASA Scientists Confirm Earth Dating The Moon\n",
      "Father Reminds Child He Should Never Ever Handle Gun Unless He’s Super Bored\n",
      "Biden Campaigns Door-To-Door In JPMorgan Chase Headquarters\n",
      "Ginsburg Clerks Wheel Filing Cabinets Into Capitol As Per Late Justice’s Request To Finish Some Work Before Burial\n",
      "Calf Annoyed By Mother Always Giving Guilt Trip About How Vet Had To Stick Chain Up Vagina To Pull Her Out\n",
      "Major Letdown: It Looks Like The Witch Who Hexed Us To Be Infertile Until There Are 20 Main Series ‘Zelda’ Games Considers The New ‘Breath Of The Wild’ Prequel To Be A Spinoff\n",
      "A Glorious Coincidence! We Were Going To Write This Glowing Review of Visible Well Before They Paid Us To\n",
      "Sonia Sotomayor Dies Choking On Chicken Wing\n",
      "Sonia Sotomayor Narrowly Survives Gas Leak Explosion\n",
      "Elena Kagan Decapitated During Rollercoaster Ride\n",
      "New Patriotic 1776 Commission Struggling To Find Ways To Improve Upon Education System’s Existing Propaganda\n",
      "The Onion Looks Back At The Life And Legacy Of Ruth Bader Ginsburg\n",
      "Biden Campaigns Door-To-Door In JPMorgan Chase Headquarters\n",
      "Ginsburg Clerks Wheel Filing Cabinets Into Capitol As Per Late Justice’s Request To Finish Some Work Before Burial\n",
      "Xi Jinping Jails Chinese Tycoon For Failing To Use Sandwich Method Of Constructive Criticism When Condemning Him\n",
      "Napkin Industry Under Fire For History Of Holding Greasy Slobs To Impossible Beauty Standards\n",
      "National Weather Service Warns Recent Snow-Cainado May Be Tied To Professor Barnabas T. Vile’s Weather Destabilizing Machine\n",
      "Student Loan Debt Making It More Difficult For Millennials To Subscribe To The Topical’s Patreon Despite Incredibly Low-Priced Membership Tiers\n",
      "Father Reminds Child He Should Never Ever Handle Gun Unless He’s Super Bored\n",
      "Smoke Alarm Sick Of Being Yelled At For Doing Its Job\n",
      "Calf Annoyed By Mother Always Giving Guilt Trip About How Vet Had To Stick Chain Up Vagina To Pull Her Out\n",
      "‘Then The Pandemic Hit And We Decided It Was Too Scary To Break Up’ Conclude Heartfelt Wedding Vows In 2022\n",
      "Girlfriend Doing Something With Leaves From Outside\n",
      "What To Read While Social Distancing\n",
      "10 Breathtaking Photos That Perfectly Capture The Unwavering Spirit Of Scissors\n",
      "How To Stay Connected To Others During Social Distancing\n",
      "11 Simple Cocktail Recipes To Try While Quarantining\n",
      "Major Letdown: It Looks Like The Witch Who Hexed Us To Be Infertile Until There Are 20 Main Series ‘Zelda’ Games Considers The New ‘Breath Of The Wild’ Prequel To Be A Spinoff\n",
      "Console Wars: Sony Undercuts Xbox’s $500 Price By Printing Counterfeit Bills To Cause Hyperinflation And Make The American Dollar Worthless\n",
      "Gamers, We Should Be Thrilled To Share These New PS5 Images With You, But In Reality We’ve Been Dreading It Because Sometimes You Guys Are Fucking Mean\n",
      "Bad News: Toad Died\n",
      "Your Horoscopes — Week Of September 22, 2020\n",
      "Conservative Conspiracy Theorist Outraged After Stumbling Upon Entire Netflix Section Dedicated To Kids\n",
      "Exasperated Plumber Explains To Kanye West Why Flushing Awards Bad For Toilet\n",
      "The Onion’s 2020 Emmy Predictions\n",
      "Terry Francona’s Face Shield Splattered With Chew Spit\n",
      "Scientists Study Brains Of Baseball Fans To Find Out How They Stay Interested During First 7 Innings\n",
      "The Onion’s Fantasy Football Expert Gives His Pro Tips For Managing Your Team\n",
      "Tom Brady Not Sure How To Ask Coach For Tape Of Other Team’s Practice\n",
      "Xi Jinping Critic Sentenced To 18 Years In Prison\n",
      "Mitt Romney Backs Filling Supreme Court Vacancy Before Election\n",
      "Unitely News\n",
      "Trump Administration Names 3 Cities ‘Anarchy Jurisdictions’\n"
     ]
    }
   ],
   "source": [
    "for i in h:\n",
    "    print(i.get_text())"
   ]
  },
  {
   "cell_type": "code",
   "execution_count": null,
   "metadata": {},
   "outputs": [],
   "source": []
  }
 ],
 "metadata": {
  "kernelspec": {
   "display_name": "Python 3",
   "language": "python",
   "name": "python3"
  },
  "language_info": {
   "codemirror_mode": {
    "name": "ipython",
    "version": 3
   },
   "file_extension": ".py",
   "mimetype": "text/x-python",
   "name": "python",
   "nbconvert_exporter": "python",
   "pygments_lexer": "ipython3",
   "version": "3.6.5"
  }
 },
 "nbformat": 4,
 "nbformat_minor": 4
}
